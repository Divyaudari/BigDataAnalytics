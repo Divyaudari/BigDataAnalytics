{
 "cells": [
  {
   "cell_type": "code",
   "execution_count": 2,
   "id": "818ce93e-3f45-400a-8a12-be6c9d1e9ad0",
   "metadata": {},
   "outputs": [
    {
     "data": {
      "text/html": [
       "\n",
       "        <div>\n",
       "            <p><b>SparkContext</b></p>\n",
       "\n",
       "            <p><a href=\"http://VandanaPallavi:4042\">Spark UI</a></p>\n",
       "\n",
       "            <dl>\n",
       "              <dt>Version</dt>\n",
       "                <dd><code>v4.0.1</code></dd>\n",
       "              <dt>Master</dt>\n",
       "                <dd><code>local[*]</code></dd>\n",
       "              <dt>AppName</dt>\n",
       "                <dd><code>PySparkShell</code></dd>\n",
       "            </dl>\n",
       "        </div>\n",
       "        "
      ],
      "text/plain": [
       "<SparkContext master=local[*] appName=PySparkShell>"
      ]
     },
     "execution_count": 2,
     "metadata": {},
     "output_type": "execute_result"
    }
   ],
   "source": [
    "sc"
   ]
  },
  {
   "cell_type": "code",
   "execution_count": 9,
   "id": "1a02b7e7-2670-407b-adf0-316115e631cb",
   "metadata": {},
   "outputs": [
    {
     "name": "stdout",
     "output_type": "stream",
     "text": [
      "Requirement already satisfied: pandas in c:\\users\\pc\\appdata\\local\\programs\\python\\python311\\lib\\site-packages (2.3.3)\n",
      "Requirement already satisfied: numpy>=1.23.2 in c:\\users\\pc\\appdata\\local\\programs\\python\\python311\\lib\\site-packages (from pandas) (2.2.6)\n",
      "Requirement already satisfied: python-dateutil>=2.8.2 in c:\\users\\pc\\appdata\\local\\programs\\python\\python311\\lib\\site-packages (from pandas) (2.9.0.post0)\n",
      "Requirement already satisfied: pytz>=2020.1 in c:\\users\\pc\\appdata\\local\\programs\\python\\python311\\lib\\site-packages (from pandas) (2025.2)\n",
      "Requirement already satisfied: tzdata>=2022.7 in c:\\users\\pc\\appdata\\local\\programs\\python\\python311\\lib\\site-packages (from pandas) (2025.2)\n",
      "Requirement already satisfied: six>=1.5 in c:\\users\\pc\\appdata\\local\\programs\\python\\python311\\lib\\site-packages (from python-dateutil>=2.8.2->pandas) (1.17.0)\n",
      "Note: you may need to restart the kernel to use updated packages.\n"
     ]
    },
    {
     "name": "stderr",
     "output_type": "stream",
     "text": [
      "\n",
      "[notice] A new release of pip available: 22.3.1 -> 25.2\n",
      "[notice] To update, run: python.exe -m pip install --upgrade pip\n"
     ]
    }
   ],
   "source": [
    "pip install pandas"
   ]
  },
  {
   "cell_type": "code",
   "execution_count": 10,
   "id": "d0c58e26-83b3-4cec-a729-853987404b25",
   "metadata": {},
   "outputs": [],
   "source": [
    "from pyspark.sql import SparkSession\n",
    "from pyspark.sql import functions as F\n"
   ]
  },
  {
   "cell_type": "code",
   "execution_count": 11,
   "id": "864bfb36-35dd-4e12-a573-4e6f6982243e",
   "metadata": {},
   "outputs": [
    {
     "name": "stdout",
     "output_type": "stream",
     "text": [
      "Spark version: 4.0.1\n"
     ]
    }
   ],
   "source": [
    "spark = SparkSession.builder \\\n",
    "    .appName('FinancialTransactionsFullAnalysis') \\\n",
    "    .config('spark.sql.shuffle.partitions', '8') \\\n",
    "    .getOrCreate()\n",
    "\n",
    "print('Spark version:', spark.version)\n"
   ]
  },
  {
   "cell_type": "code",
   "execution_count": 12,
   "id": "a2fee616-1800-429c-8f59-a027f4060502",
   "metadata": {},
   "outputs": [
    {
     "name": "stdout",
     "output_type": "stream",
     "text": [
      "Folder created at: C:\\Users\\pc\\Desktop\\pyspark_bda\n"
     ]
    }
   ],
   "source": [
    "import os\n",
    "\n",
    "folder_path = r\"C:\\Users\\pc\\Desktop\\pyspark_bda\"\n",
    "os.makedirs(folder_path, exist_ok=True)\n",
    "print(f\"Folder created at: {folder_path}\")\n"
   ]
  },
  {
   "cell_type": "code",
   "execution_count": 13,
   "id": "b0f123d8-96f9-4d44-8ac9-eef77cc37fb7",
   "metadata": {},
   "outputs": [
    {
     "name": "stdout",
     "output_type": "stream",
     "text": [
      "Rows: 100000 Cols: 6\n",
      "root\n",
      " |-- transaction_id: integer (nullable = true)\n",
      " |-- date: date (nullable = true)\n",
      " |-- customer_id: integer (nullable = true)\n",
      " |-- amount: double (nullable = true)\n",
      " |-- type: string (nullable = true)\n",
      " |-- description: string (nullable = true)\n",
      "\n"
     ]
    },
    {
     "data": {
      "text/html": [
       "<div>\n",
       "<style scoped>\n",
       "    .dataframe tbody tr th:only-of-type {\n",
       "        vertical-align: middle;\n",
       "    }\n",
       "\n",
       "    .dataframe tbody tr th {\n",
       "        vertical-align: top;\n",
       "    }\n",
       "\n",
       "    .dataframe thead th {\n",
       "        text-align: right;\n",
       "    }\n",
       "</style>\n",
       "<table border=\"1\" class=\"dataframe\">\n",
       "  <thead>\n",
       "    <tr style=\"text-align: right;\">\n",
       "      <th></th>\n",
       "      <th>transaction_id</th>\n",
       "      <th>date</th>\n",
       "      <th>customer_id</th>\n",
       "      <th>amount</th>\n",
       "      <th>type</th>\n",
       "      <th>description</th>\n",
       "    </tr>\n",
       "  </thead>\n",
       "  <tbody>\n",
       "    <tr>\n",
       "      <th>0</th>\n",
       "      <td>1</td>\n",
       "      <td>2020-10-26</td>\n",
       "      <td>926</td>\n",
       "      <td>6478.39</td>\n",
       "      <td>credit</td>\n",
       "      <td>Expect series shake art again our.</td>\n",
       "    </tr>\n",
       "    <tr>\n",
       "      <th>1</th>\n",
       "      <td>2</td>\n",
       "      <td>2020-01-08</td>\n",
       "      <td>466</td>\n",
       "      <td>1255.95</td>\n",
       "      <td>credit</td>\n",
       "      <td>Each left similar likely coach take.</td>\n",
       "    </tr>\n",
       "    <tr>\n",
       "      <th>2</th>\n",
       "      <td>3</td>\n",
       "      <td>2019-09-02</td>\n",
       "      <td>110</td>\n",
       "      <td>7969.68</td>\n",
       "      <td>debit</td>\n",
       "      <td>Direction wife job pull determine leader move ...</td>\n",
       "    </tr>\n",
       "    <tr>\n",
       "      <th>3</th>\n",
       "      <td>4</td>\n",
       "      <td>2020-12-02</td>\n",
       "      <td>142</td>\n",
       "      <td>2927.41</td>\n",
       "      <td>credit</td>\n",
       "      <td>Agree reveal buy black already.</td>\n",
       "    </tr>\n",
       "    <tr>\n",
       "      <th>4</th>\n",
       "      <td>5</td>\n",
       "      <td>2020-12-02</td>\n",
       "      <td>944</td>\n",
       "      <td>4661.88</td>\n",
       "      <td>debit</td>\n",
       "      <td>Child relationship show college whom speech.</td>\n",
       "    </tr>\n",
       "  </tbody>\n",
       "</table>\n",
       "</div>"
      ],
      "text/plain": [
       "   transaction_id        date  customer_id   amount    type  \\\n",
       "0               1  2020-10-26          926  6478.39  credit   \n",
       "1               2  2020-01-08          466  1255.95  credit   \n",
       "2               3  2019-09-02          110  7969.68   debit   \n",
       "3               4  2020-12-02          142  2927.41  credit   \n",
       "4               5  2020-12-02          944  4661.88   debit   \n",
       "\n",
       "                                         description  \n",
       "0                 Expect series shake art again our.  \n",
       "1               Each left similar likely coach take.  \n",
       "2  Direction wife job pull determine leader move ...  \n",
       "3                    Agree reveal buy black already.  \n",
       "4       Child relationship show college whom speech.  "
      ]
     },
     "execution_count": 13,
     "metadata": {},
     "output_type": "execute_result"
    }
   ],
   "source": [
    "import os\n",
    "from pyspark.sql import SparkSession\n",
    "\n",
    "# Start Spark session\n",
    "spark = SparkSession.builder.appName(\"FinancialTransactions\").getOrCreate()\n",
    "\n",
    "# Corrected file path (with raw string to handle backslashes)\n",
    "csv_path = r\"C:\\Users\\pc\\Desktop\\financial_transactions.csv\"\n",
    "\n",
    "# Check if file exists\n",
    "if not os.path.exists(csv_path):\n",
    "    raise FileNotFoundError(f\"CSV not found at {csv_path}. Upload the file and re-run the notebook.\")\n",
    "\n",
    "# Load CSV into Spark DataFrame\n",
    "df = spark.read.options(\n",
    "    header=True, \n",
    "    inferSchema=True, \n",
    "    nullValue='', \n",
    "    mode='DROPMALFORMED'\n",
    ").csv(csv_path)\n",
    "\n",
    "# Print shape\n",
    "print(\"Rows:\", df.count(), \"Cols:\", len(df.columns))\n",
    "\n",
    "# Print schema\n",
    "df.printSchema()\n",
    "\n",
    "# Show first 5 rows as Pandas DataFrame\n",
    "df.limit(5).toPandas()\n"
   ]
  },
  {
   "cell_type": "markdown",
   "id": "6f659b94-8bb7-40b5-964d-40a0fcd27f76",
   "metadata": {},
   "source": [
    "**#Data cleaning**"
   ]
  },
  {
   "cell_type": "markdown",
   "id": "475ba9c3-c95d-4b68-bb5e-7eb63f6c9366",
   "metadata": {},
   "source": [
    "**# 1. Drop exact duplicates**"
   ]
  },
  {
   "cell_type": "code",
   "execution_count": 14,
   "id": "ed1c3e7a-4b33-4724-b53f-c5c35fc952c3",
   "metadata": {},
   "outputs": [
    {
     "name": "stdout",
     "output_type": "stream",
     "text": [
      "Dropped duplicates: 0\n"
     ]
    }
   ],
   "source": [
    "before = df.count()\n",
    "df = df.dropDuplicates()\n",
    "after = df.count()\n",
    "print('Dropped duplicates:', before - after)\n"
   ]
  },
  {
   "cell_type": "markdown",
   "id": "c3e3934d-82e3-40ef-b065-14c6ea441ddd",
   "metadata": {},
   "source": [
    "**# 2. Inspect missing values per column**"
   ]
  },
  {
   "cell_type": "code",
   "execution_count": 16,
   "id": "68215918-1614-42df-8baf-758766a76279",
   "metadata": {},
   "outputs": [
    {
     "name": "stdout",
     "output_type": "stream",
     "text": [
      "+--------------+----+-----------+------+----+-----------+\n",
      "|transaction_id|date|customer_id|amount|type|description|\n",
      "+--------------+----+-----------+------+----+-----------+\n",
      "|0             |0   |0          |0     |0   |0          |\n",
      "+--------------+----+-----------+------+----+-----------+\n",
      "\n"
     ]
    }
   ],
   "source": [
    "from pyspark.sql.functions import col, when, count\n",
    "from pyspark.sql.types import StringType\n",
    "\n",
    "exprs = []\n",
    "for c in df.columns:\n",
    "    if isinstance(df.schema[c].dataType, StringType):\n",
    "        exprs.append(count(when(col(c).isNull() | (col(c) == ''), c)).alias(c))\n",
    "    else:\n",
    "        exprs.append(count(when(col(c).isNull(), c)).alias(c))\n",
    "\n",
    "null_counts = df.select(exprs)\n",
    "null_counts.show(truncate=False)\n"
   ]
  },
  {
   "cell_type": "markdown",
   "id": "b8cc9caa-6d60-44df-91d1-e0f0647115cc",
   "metadata": {},
   "source": [
    "**# 3. Drop columns with >50% missing (if any)**"
   ]
  },
  {
   "cell_type": "code",
   "execution_count": 18,
   "id": "4fcb02d9-ba9b-46dc-979b-bf72a40b7e99",
   "metadata": {},
   "outputs": [],
   "source": [
    "from pyspark.sql.types import StringType\n",
    "from pyspark.sql.functions import col\n",
    "\n",
    "total = df.count()\n",
    "cols_to_drop = []\n",
    "\n",
    "for c in df.columns:\n",
    "    if isinstance(df.schema[c].dataType, StringType):\n",
    "        nnull = df.filter(col(c).isNull() | (col(c) == '')).count()\n",
    "    else:\n",
    "        nnull = df.filter(col(c).isNull()).count()\n",
    "        \n",
    "    if nnull > 0.5 * total:\n",
    "        cols_to_drop.append(c)\n",
    "\n",
    "if cols_to_drop:\n",
    "    print('Dropping columns with >50% missing:', cols_to_drop)\n",
    "    df = df.drop(*cols_to_drop)\n",
    "\n"
   ]
  },
  {
   "cell_type": "markdown",
   "id": "ebb0f2aa-2696-4bf6-94a9-74f43bb19aa1",
   "metadata": {},
   "source": [
    "**# 4. Try to parse datetime columns**"
   ]
  },
  {
   "cell_type": "code",
   "execution_count": 19,
   "id": "e88d0e5b-295a-40d8-8ba9-18fc142621cb",
   "metadata": {},
   "outputs": [
    {
     "name": "stdout",
     "output_type": "stream",
     "text": [
      "Parsed date to timestamp\n"
     ]
    }
   ],
   "source": [
    "date_candidates = [c for c in df.columns if 'date' in c.lower() or 'time' in c.lower()]\n",
    "for d in date_candidates:\n",
    "    try:\n",
    "        df = df.withColumn(d, F.to_timestamp(F.col(d)))\n",
    "        print('Parsed', d, 'to timestamp')\n",
    "    except Exception as e:\n",
    "        print('Could not parse', d, e)"
   ]
  },
  {
   "cell_type": "markdown",
   "id": "f06a8e3c-7acf-4cb3-b923-d14007eb6367",
   "metadata": {},
   "source": [
    "**# 5. Show schema & sample**"
   ]
  },
  {
   "cell_type": "code",
   "execution_count": 22,
   "id": "623fbf20-ab17-4f43-8c59-792085353a7c",
   "metadata": {},
   "outputs": [
    {
     "name": "stdout",
     "output_type": "stream",
     "text": [
      "root\n",
      " |-- transaction_id: integer (nullable = true)\n",
      " |-- date: timestamp (nullable = true)\n",
      " |-- customer_id: integer (nullable = true)\n",
      " |-- amount: double (nullable = true)\n",
      " |-- type: string (nullable = true)\n",
      " |-- description: string (nullable = true)\n",
      "\n"
     ]
    },
    {
     "data": {
      "text/html": [
       "<div>\n",
       "<style scoped>\n",
       "    .dataframe tbody tr th:only-of-type {\n",
       "        vertical-align: middle;\n",
       "    }\n",
       "\n",
       "    .dataframe tbody tr th {\n",
       "        vertical-align: top;\n",
       "    }\n",
       "\n",
       "    .dataframe thead th {\n",
       "        text-align: right;\n",
       "    }\n",
       "</style>\n",
       "<table border=\"1\" class=\"dataframe\">\n",
       "  <thead>\n",
       "    <tr style=\"text-align: right;\">\n",
       "      <th></th>\n",
       "      <th>transaction_id</th>\n",
       "      <th>date</th>\n",
       "      <th>customer_id</th>\n",
       "      <th>amount</th>\n",
       "      <th>type</th>\n",
       "      <th>description</th>\n",
       "    </tr>\n",
       "  </thead>\n",
       "  <tbody>\n",
       "    <tr>\n",
       "      <th>0</th>\n",
       "      <td>8</td>\n",
       "      <td>2022-09-08</td>\n",
       "      <td>573</td>\n",
       "      <td>8088.01</td>\n",
       "      <td>credit</td>\n",
       "      <td>Trouble reason speak involve.</td>\n",
       "    </tr>\n",
       "    <tr>\n",
       "      <th>1</th>\n",
       "      <td>18</td>\n",
       "      <td>2022-05-23</td>\n",
       "      <td>296</td>\n",
       "      <td>1676.77</td>\n",
       "      <td>transfer</td>\n",
       "      <td>Property strategy represent that.</td>\n",
       "    </tr>\n",
       "    <tr>\n",
       "      <th>2</th>\n",
       "      <td>26</td>\n",
       "      <td>2018-09-04</td>\n",
       "      <td>531</td>\n",
       "      <td>987.32</td>\n",
       "      <td>credit</td>\n",
       "      <td>Newspaper region sister whose man fight usually.</td>\n",
       "    </tr>\n",
       "    <tr>\n",
       "      <th>3</th>\n",
       "      <td>35</td>\n",
       "      <td>2020-03-28</td>\n",
       "      <td>839</td>\n",
       "      <td>4914.61</td>\n",
       "      <td>transfer</td>\n",
       "      <td>Hope moment value article would economic point...</td>\n",
       "    </tr>\n",
       "    <tr>\n",
       "      <th>4</th>\n",
       "      <td>46</td>\n",
       "      <td>2023-03-05</td>\n",
       "      <td>410</td>\n",
       "      <td>468.79</td>\n",
       "      <td>debit</td>\n",
       "      <td>Run us scientist computer.</td>\n",
       "    </tr>\n",
       "    <tr>\n",
       "      <th>5</th>\n",
       "      <td>49</td>\n",
       "      <td>2021-06-27</td>\n",
       "      <td>864</td>\n",
       "      <td>592.05</td>\n",
       "      <td>transfer</td>\n",
       "      <td>Threat management consumer resource here else.</td>\n",
       "    </tr>\n",
       "    <tr>\n",
       "      <th>6</th>\n",
       "      <td>57</td>\n",
       "      <td>2020-05-21</td>\n",
       "      <td>919</td>\n",
       "      <td>2645.87</td>\n",
       "      <td>debit</td>\n",
       "      <td>Can thousand natural opportunity certainly.</td>\n",
       "    </tr>\n",
       "    <tr>\n",
       "      <th>7</th>\n",
       "      <td>62</td>\n",
       "      <td>2021-11-03</td>\n",
       "      <td>421</td>\n",
       "      <td>2253.30</td>\n",
       "      <td>debit</td>\n",
       "      <td>Put science recognize rest entire.</td>\n",
       "    </tr>\n",
       "    <tr>\n",
       "      <th>8</th>\n",
       "      <td>79</td>\n",
       "      <td>2018-09-05</td>\n",
       "      <td>807</td>\n",
       "      <td>9545.28</td>\n",
       "      <td>transfer</td>\n",
       "      <td>Foot idea part executive end stock want teach.</td>\n",
       "    </tr>\n",
       "    <tr>\n",
       "      <th>9</th>\n",
       "      <td>80</td>\n",
       "      <td>2019-04-18</td>\n",
       "      <td>48</td>\n",
       "      <td>999.02</td>\n",
       "      <td>transfer</td>\n",
       "      <td>Black read picture begin when street conference.</td>\n",
       "    </tr>\n",
       "  </tbody>\n",
       "</table>\n",
       "</div>"
      ],
      "text/plain": [
       "   transaction_id       date  customer_id   amount      type  \\\n",
       "0               8 2022-09-08          573  8088.01    credit   \n",
       "1              18 2022-05-23          296  1676.77  transfer   \n",
       "2              26 2018-09-04          531   987.32    credit   \n",
       "3              35 2020-03-28          839  4914.61  transfer   \n",
       "4              46 2023-03-05          410   468.79     debit   \n",
       "5              49 2021-06-27          864   592.05  transfer   \n",
       "6              57 2020-05-21          919  2645.87     debit   \n",
       "7              62 2021-11-03          421  2253.30     debit   \n",
       "8              79 2018-09-05          807  9545.28  transfer   \n",
       "9              80 2019-04-18           48   999.02  transfer   \n",
       "\n",
       "                                         description  \n",
       "0                      Trouble reason speak involve.  \n",
       "1                  Property strategy represent that.  \n",
       "2   Newspaper region sister whose man fight usually.  \n",
       "3  Hope moment value article would economic point...  \n",
       "4                         Run us scientist computer.  \n",
       "5     Threat management consumer resource here else.  \n",
       "6        Can thousand natural opportunity certainly.  \n",
       "7                 Put science recognize rest entire.  \n",
       "8     Foot idea part executive end stock want teach.  \n",
       "9   Black read picture begin when street conference.  "
      ]
     },
     "execution_count": 22,
     "metadata": {},
     "output_type": "execute_result"
    }
   ],
   "source": [
    "df.printSchema()\n",
    "df.limit(10).toPandas()\n"
   ]
  },
  {
   "cell_type": "markdown",
   "id": "2b9fa74b-9c81-434a-8cb7-4ad55284425e",
   "metadata": {},
   "source": [
    "**# Detect likely columns: fraud label, amount, customer, merchant/type**"
   ]
  },
  {
   "cell_type": "code",
   "execution_count": 23,
   "id": "af8b312d-d10e-420f-9587-bd0aa3e0c769",
   "metadata": {},
   "outputs": [
    {
     "name": "stdout",
     "output_type": "stream",
     "text": [
      "fraud_col: None\n",
      "amount_col: amount\n",
      "cust_col: customer_id\n"
     ]
    }
   ],
   "source": [
    "cols = df.columns\n",
    "fraud_col = None\n",
    "for c in cols:\n",
    "    if 'fraud' in c.lower() or 'is_fraud' in c.lower() or 'isfraud' in c.lower():\n",
    "        fraud_col = c\n",
    "        break\n",
    "\n",
    "amount_col = None\n",
    "for c in cols:\n",
    "    if 'amount' in c.lower() or 'amt' in c.lower() or 'transaction_amount' in c.lower():\n",
    "        amount_col = c\n",
    "        break\n",
    "\n",
    "cust_col = None\n",
    "for c in cols:\n",
    "    if 'customer' in c.lower() or 'cust' in c.lower() or 'account' in c.lower():\n",
    "        cust_col = c\n",
    "        break\n",
    "\n",
    "print('fraud_col:', fraud_col)\n",
    "print('amount_col:', amount_col)\n",
    "print('cust_col:', cust_col)\n"
   ]
  },
  {
   "cell_type": "markdown",
   "id": "151c9810-59f8-4271-a538-6c9a2534ccde",
   "metadata": {},
   "source": [
    "**# Show numeric summary for numeric columns**"
   ]
  },
  {
   "cell_type": "code",
   "execution_count": 24,
   "id": "62fefe7f-fee2-43c5-b1f2-819173d3e69a",
   "metadata": {},
   "outputs": [
    {
     "data": {
      "text/html": [
       "<div>\n",
       "<style scoped>\n",
       "    .dataframe tbody tr th:only-of-type {\n",
       "        vertical-align: middle;\n",
       "    }\n",
       "\n",
       "    .dataframe tbody tr th {\n",
       "        vertical-align: top;\n",
       "    }\n",
       "\n",
       "    .dataframe thead th {\n",
       "        text-align: right;\n",
       "    }\n",
       "</style>\n",
       "<table border=\"1\" class=\"dataframe\">\n",
       "  <thead>\n",
       "    <tr style=\"text-align: right;\">\n",
       "      <th></th>\n",
       "      <th>summary</th>\n",
       "      <th>transaction_id</th>\n",
       "      <th>customer_id</th>\n",
       "      <th>amount</th>\n",
       "    </tr>\n",
       "  </thead>\n",
       "  <tbody>\n",
       "    <tr>\n",
       "      <th>0</th>\n",
       "      <td>count</td>\n",
       "      <td>100000</td>\n",
       "      <td>100000</td>\n",
       "      <td>100000</td>\n",
       "    </tr>\n",
       "    <tr>\n",
       "      <th>1</th>\n",
       "      <td>mean</td>\n",
       "      <td>50000.5</td>\n",
       "      <td>499.59471</td>\n",
       "      <td>5009.012768299992</td>\n",
       "    </tr>\n",
       "    <tr>\n",
       "      <th>2</th>\n",
       "      <td>stddev</td>\n",
       "      <td>28867.657796687716</td>\n",
       "      <td>288.97350305325665</td>\n",
       "      <td>2888.443653634413</td>\n",
       "    </tr>\n",
       "    <tr>\n",
       "      <th>3</th>\n",
       "      <td>min</td>\n",
       "      <td>1</td>\n",
       "      <td>1</td>\n",
       "      <td>1.29</td>\n",
       "    </tr>\n",
       "    <tr>\n",
       "      <th>4</th>\n",
       "      <td>max</td>\n",
       "      <td>100000</td>\n",
       "      <td>1000</td>\n",
       "      <td>10000.0</td>\n",
       "    </tr>\n",
       "  </tbody>\n",
       "</table>\n",
       "</div>"
      ],
      "text/plain": [
       "  summary      transaction_id         customer_id             amount\n",
       "0   count              100000              100000             100000\n",
       "1    mean             50000.5           499.59471  5009.012768299992\n",
       "2  stddev  28867.657796687716  288.97350305325665  2888.443653634413\n",
       "3     min                   1                   1               1.29\n",
       "4     max              100000                1000            10000.0"
      ]
     },
     "metadata": {},
     "output_type": "display_data"
    }
   ],
   "source": [
    "numeric_summary = df.select([c for c, t in df.dtypes if t in ('int','bigint','double','float','long','decimal')])\n",
    "if len(numeric_summary.columns) > 0:\n",
    "    display(numeric_summary.describe().toPandas())\n"
   ]
  },
  {
   "cell_type": "markdown",
   "id": "3c333843-8efd-477d-9bb9-640685f68f5a",
   "metadata": {},
   "source": [
    "**# Top 10 customers by transaction count (if cust_col found)**"
   ]
  },
  {
   "cell_type": "code",
   "execution_count": 25,
   "id": "152432f5-d384-4058-9969-a3073e82db72",
   "metadata": {},
   "outputs": [
    {
     "name": "stdout",
     "output_type": "stream",
     "text": [
      "+-----------+-----+\n",
      "|customer_id|count|\n",
      "+-----------+-----+\n",
      "|        853|  129|\n",
      "|        802|  127|\n",
      "|        222|  127|\n",
      "|        115|  126|\n",
      "|        476|  125|\n",
      "|        523|  125|\n",
      "|        943|  123|\n",
      "|        573|  123|\n",
      "|        781|  123|\n",
      "|        720|  122|\n",
      "+-----------+-----+\n",
      "\n"
     ]
    }
   ],
   "source": [
    "if cust_col:\n",
    "    df.groupBy(cust_col).count().orderBy(F.col('count').desc()).limit(10).show()"
   ]
  },
  {
   "cell_type": "markdown",
   "id": "86660790-ff55-4a18-8411-1977aef86f7e",
   "metadata": {},
   "source": [
    "**# Top 10 transaction types or descriptions**"
   ]
  },
  {
   "cell_type": "code",
   "execution_count": 26,
   "id": "db95a891-db0d-4851-a6d2-a73aa0ef2c51",
   "metadata": {},
   "outputs": [
    {
     "name": "stdout",
     "output_type": "stream",
     "text": [
      "Using type-like column: type\n",
      "+--------+-----+\n",
      "|    type|count|\n",
      "+--------+-----+\n",
      "|  credit|33371|\n",
      "|transfer|33331|\n",
      "|   debit|33298|\n",
      "+--------+-----+\n",
      "\n"
     ]
    }
   ],
   "source": [
    "type_candidates = [c for c in cols if 'type' in c.lower() or 'merchant' in c.lower() or 'description' in c.lower() or 'vendor' in c.lower()]\n",
    "if type_candidates:\n",
    "    tcol = type_candidates[0]\n",
    "    print('Using type-like column:', tcol)\n",
    "    df.groupBy(tcol).count().orderBy(F.col('count').desc()).limit(20).show()\n"
   ]
  },
  {
   "cell_type": "markdown",
   "id": "f2316e32-5862-4854-b859-43a53db35652",
   "metadata": {},
   "source": [
    "**# Plotting: convert necessary slices to pandas for matplotlib**"
   ]
  },
  {
   "cell_type": "code",
   "execution_count": 27,
   "id": "e8378556-9db1-4821-bef0-eb795b45b887",
   "metadata": {},
   "outputs": [],
   "source": [
    "import matplotlib.pyplot as plt\n",
    "import pandas as pd"
   ]
  },
  {
   "cell_type": "markdown",
   "id": "8659690e-0b97-427d-ac09-a7fe69269853",
   "metadata": {},
   "source": [
    "**# Configure inline plotting**"
   ]
  },
  {
   "cell_type": "code",
   "execution_count": 28,
   "id": "b9bf64d0-4345-480f-91ce-fb45e21ee4cc",
   "metadata": {},
   "outputs": [],
   "source": [
    "%matplotlib inline"
   ]
  },
  {
   "cell_type": "markdown",
   "id": "0fdb04c5-ddf2-417e-b0b7-279c01ef8cdc",
   "metadata": {},
   "source": [
    "**# Amount distribution (sample if very large)**"
   ]
  },
  {
   "cell_type": "code",
   "execution_count": 29,
   "id": "6033be24-95c1-49cd-a741-83b4e996b0a2",
   "metadata": {},
   "outputs": [
    {
     "data": {
      "image/png": "[encoded data removed]",
      "text/plain": [
       "<Figure size 1000x500 with 1 Axes>"
      ]
     },
     "metadata": {},
     "output_type": "display_data"
    }
   ],
   "source": [
    "if amount_col:\n",
    "    sample_pdf = df.select(amount_col).sample(False, 0.1, seed=42).toPandas()  # sample 10%\n",
    "    plt.figure(figsize=(10,5))\n",
    "    plt.hist(sample_pdf[amount_col].dropna(), bins=80)\n",
    "    plt.title('Transaction Amount Distribution (sample)')\n",
    "    plt.xlabel('amount')\n",
    "    plt.ylabel('count')\n",
    "    plt.grid(True)\n",
    "    plt.show()"
   ]
  },
  {
   "cell_type": "markdown",
   "id": "47383491-2bc0-410b-a73e-2a05fef8faed",
   "metadata": {},
   "source": [
    "**# Boxplot of amount by type (if type-like col exists)**"
   ]
  },
  {
   "cell_type": "code",
   "execution_count": 31,
   "id": "d75dc624-6e7c-4823-916b-47cf8b608bb6",
   "metadata": {},
   "outputs": [
    {
     "data": {
      "text/plain": [
       "<Figure size 1000x500 with 0 Axes>"
      ]
     },
     "metadata": {},
     "output_type": "display_data"
    },
    {
     "data": {
      "image/png": "[encoded data removed]",
      "text/plain": [
       "<Figure size 640x480 with 1 Axes>"
      ]
     },
     "metadata": {},
     "output_type": "display_data"
    }
   ],
   "source": [
    "if amount_col and type_candidates:\n",
    "    tcol = type_candidates[0]\n",
    "    pdf = df.select(tcol, amount_col).sample(False, 0.1, seed=1).toPandas()\n",
    "    # show top 6 categories only to keep plot readable\n",
    "    top_cats = pdf[tcol].value_counts().nlargest(6).index.tolist()\n",
    "    pdf = pdf[pdf[tcol].isin(top_cats)]\n",
    "    plt.figure(figsize=(10,5))\n",
    "    pdf.boxplot(column=amount_col, by=tcol)\n",
    "    plt.title('Amount by '+tcol)\n",
    "    plt.suptitle('')\n",
    "    plt.xlabel(tcol)\n",
    "    plt.ylabel('amount')\n",
    "    plt.show()"
   ]
  },
  {
   "cell_type": "markdown",
   "id": "a99ed49c-7525-430f-aa77-4d9053faa8a8",
   "metadata": {},
   "source": [
    "**# Transactions over time (per day) if a date-like column exists**"
   ]
  },
  {
   "cell_type": "code",
   "execution_count": 32,
   "id": "0e4ce675-ff1e-4c8f-9fa8-b83958fe84f8",
   "metadata": {},
   "outputs": [
    {
     "data": {
      "image/png": "[encoded data removed]",
      "text/plain": [
       "<Figure size 1200x400 with 1 Axes>"
      ]
     },
     "metadata": {},
     "output_type": "display_data"
    }
   ],
   "source": [
    "if date_candidates:\n",
    "    dt = date_candidates[0]\n",
    "    pdf = df.select(F.to_date(F.col(dt)).alias('date')).groupBy('date').count().orderBy('date').toPandas()\n",
    "    if not pdf.empty:\n",
    "        plt.figure(figsize=(12,4))\n",
    "        plt.plot(pdf['date'], pdf['count'])\n",
    "        plt.title('Transactions per day')\n",
    "        plt.xlabel('date')\n",
    "        plt.ylabel('count')\n",
    "        plt.xticks(rotation=45)\n",
    "        plt.grid(True)\n",
    "        plt.show()"
   ]
  },
  {
   "cell_type": "markdown",
   "id": "f1129ee0-c4ee-4d80-95dd-a7b29f227a36",
   "metadata": {},
   "source": [
    "**#Correlation heatmap for numeric columns (use pandas)**"
   ]
  },
  {
   "cell_type": "code",
   "execution_count": 33,
   "id": "d919a926-43d4-4a17-a3af-01710f4c7aa5",
   "metadata": {},
   "outputs": [
    {
     "data": {
      "image/png": "[encoded data removed]",
      "text/plain": [
       "<Figure size 800x600 with 2 Axes>"
      ]
     },
     "metadata": {},
     "output_type": "display_data"
    }
   ],
   "source": [
    "num_cols = [c for c, t in df.dtypes if t in ('int','bigint','double','float','long','decimal')]\n",
    "if num_cols:\n",
    "    pdf = df.select(num_cols).sample(False, 0.1, seed=2).toPandas()\n",
    "    corr = pdf.corr()\n",
    "    plt.figure(figsize=(8,6))\n",
    "    plt.imshow(corr, interpolation='none', cmap='coolwarm')\n",
    "    plt.colorbar()\n",
    "    plt.xticks(range(len(corr)), corr.columns, rotation=90)\n",
    "    plt.yticks(range(len(corr)), corr.columns)\n",
    "    plt.title('Correlation matrix (sample)')\n",
    "    plt.show()\n"
   ]
  },
  {
   "cell_type": "code",
   "execution_count": 36,
   "id": "9e904d8e-8798-4589-a438-db70b060128b",
   "metadata": {},
   "outputs": [
    {
     "name": "stdout",
     "output_type": "stream",
     "text": [
      "Collecting scikit-learn\n",
      "  Downloading scikit_learn-1.7.2-cp311-cp311-win_amd64.whl (8.9 MB)\n",
      "     ---------------------------------------- 8.9/8.9 MB 2.4 MB/s eta 0:00:00\n",
      "Requirement already satisfied: numpy>=1.22.0 in c:\\users\\pc\\appdata\\local\\programs\\python\\python311\\lib\\site-packages (from scikit-learn) (2.2.6)\n",
      "Requirement already satisfied: scipy>=1.8.0 in c:\\users\\pc\\appdata\\local\\programs\\python\\python311\\lib\\site-packages (from scikit-learn) (1.16.2)\n",
      "Collecting joblib>=1.2.0\n",
      "  Downloading joblib-1.5.2-py3-none-any.whl (308 kB)\n",
      "     -------------------------------------- 308.4/308.4 kB 3.8 MB/s eta 0:00:00\n",
      "Collecting threadpoolctl>=3.1.0\n",
      "  Downloading threadpoolctl-3.6.0-py3-none-any.whl (18 kB)\n",
      "Installing collected packages: threadpoolctl, joblib, scikit-learn\n",
      "Successfully installed joblib-1.5.2 scikit-learn-1.7.2 threadpoolctl-3.6.0\n"
     ]
    },
    {
     "name": "stderr",
     "output_type": "stream",
     "text": [
      "\n",
      "[notice] A new release of pip available: 22.3.1 -> 25.2\n",
      "[notice] To update, run: python.exe -m pip install --upgrade pip\n"
     ]
    }
   ],
   "source": [
    "!pip install scikit-learn\n"
   ]
  },
  {
   "cell_type": "code",
   "execution_count": 40,
   "id": "5e63dbf6-c6c9-4867-98f2-268c663f96ce",
   "metadata": {},
   "outputs": [
    {
     "name": "stdout",
     "output_type": "stream",
     "text": [
      "Anomaly detection on sample shape: (5076, 3)\n",
      "Detected anomalies in sample: 51\n"
     ]
    },
    {
     "data": {
      "image/png": "[encoded data removed]",
      "text/plain": [
       "<Figure size 1000x400 with 1 Axes>"
      ]
     },
     "metadata": {},
     "output_type": "display_data"
    }
   ],
   "source": [
    "# Basic anomaly detection (IsolationForest) on sampled numeric features\n",
    "from sklearn.ensemble import IsolationForest\n",
    "import numpy as np\n",
    "\n",
    "num_cols = [c for c, t in df.dtypes if t in ('int','bigint','double','float','long','decimal')]\n",
    "if not num_cols:\n",
    "    print('No numeric columns available for anomaly detection.')\n",
    "else:\n",
    "    # sample 5% or 20000 rows whichever smaller\n",
    "    frac = min(0.05, 20000.0 / max(1, df.count()))\n",
    "    sample = df.select(num_cols).sample(False, frac, seed=42).toPandas()\n",
    "    sample = sample.dropna()\n",
    "    print('Anomaly detection on sample shape:', sample.shape)\n",
    "\n",
    "    # If too many columns, keep top 6 numeric columns by variance\n",
    "    if sample.shape[1] > 6:\n",
    "        variances = sample.var().sort_values(ascending=False)\n",
    "        keep = variances.index[:6].tolist()\n",
    "        sample = sample[keep]\n",
    "        print('Using numeric columns:', keep)\n",
    "\n",
    "    iso = IsolationForest(n_estimators=100, contamination=0.01, random_state=42)\n",
    "    iso.fit(sample)\n",
    "    preds = iso.predict(sample)\n",
    "    sample['anomaly'] = (preds == -1).astype(int)\n",
    "    n_anom = sample['anomaly'].sum()\n",
    "    print('Detected anomalies in sample:', n_anom)\n",
    "# Show distribution of amount for anomalies if amount_col present\n",
    "    if amount_col and amount_col in sample.columns:\n",
    "        import matplotlib.pyplot as plt\n",
    "        plt.figure(figsize=(10,4))\n",
    "        plt.hist(sample[sample['anomaly']==0][amount_col], bins=80, alpha=0.6, label='normal')\n",
    "        plt.hist(sample[sample['anomaly']==1][amount_col], bins=80, alpha=0.8, label='anomaly')\n",
    "        plt.legend()\n",
    "        plt.title('Amount distribution: normal vs anomaly (sample)')\n",
    "        plt.show()\n"
   ]
  },
  {
   "cell_type": "code",
   "execution_count": null,
   "id": "19762922-5bf2-424b-b2e9-c7add5101b8e",
   "metadata": {},
   "outputs": [],
   "source": []
  }
 ],
 "metadata": {
  "kernelspec": {
   "display_name": "Python 3 (ipykernel)",
   "language": "python",
   "name": "python3"
  },
  "language_info": {
   "codemirror_mode": {
    "name": "ipython",
    "version": 3
   },
   "file_extension": ".py",
   "mimetype": "text/x-python",
   "name": "python",
   "nbconvert_exporter": "python",
   "pygments_lexer": "ipython3",
   "version": "3.11.1"
  }
 },
 "nbformat": 4,
 "nbformat_minor": 5
}
